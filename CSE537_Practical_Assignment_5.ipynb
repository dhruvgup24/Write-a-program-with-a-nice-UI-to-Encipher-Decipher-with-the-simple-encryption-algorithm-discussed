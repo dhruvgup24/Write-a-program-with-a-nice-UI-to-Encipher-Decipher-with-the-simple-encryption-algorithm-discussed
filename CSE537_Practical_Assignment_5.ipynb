{
  "cells": [
    {
      "cell_type": "markdown",
      "metadata": {
        "id": "view-in-github",
        "colab_type": "text"
      },
      "source": [
        "<a href=\"https://colab.research.google.com/github/dhruvgup24/network-security/blob/main/CSE537_Practical_Assignment_5.ipynb\" target=\"_parent\"><img src=\"https://colab.research.google.com/assets/colab-badge.svg\" alt=\"Open In Colab\"/></a>"
      ]
    },
    {
      "cell_type": "code",
      "source": [
        "# roll no.- 19164007.\n",
        "# OJECTIVE: To implement the El Gaamal algorithm in Python program.\n",
        "\n",
        "\n",
        "\n",
        "import random\n",
        "from math import pow\n",
        "\n",
        "a=random.randint(2,10)\n",
        "\n",
        "#To fing gcd of two numbers\n",
        "def gcd(a,b):\n",
        "    if a<b:\n",
        "        return gcd(b,a)\n",
        "    elif a%b==0:\n",
        "        return b\n",
        "    else:\n",
        "        return gcd(b,a%b)\n",
        "\n",
        "#For key generation i.e. large random number\n",
        "def gen_key(q):\n",
        "    key= random.randint(pow(10,20),q)\n",
        "    while gcd(q,key)!=1:\n",
        "        key=random.randint(pow(10,20),q)\n",
        "    return key\n",
        "\n",
        "def power(a,b,c):\n",
        "    x=1\n",
        "    y=a\n",
        "    while b>0:\n",
        "        if b%2==0:\n",
        "            x=(x*y)%c;\n",
        "        y=(y*y)%c\n",
        "        b=int(b/2)\n",
        "    return x%c\n",
        "\n",
        "#For asymetric encryption\n",
        "def encryption(msg,q,h,g):\n",
        "    ct=[]\n",
        "    k=gen_key(q)\n",
        "    s=power(h,k,q)\n",
        "    p=power(g,k,q)\n",
        "    for i in range(0,len(msg)):\n",
        "        ct.append(msg[i])\n",
        "    print(\"g^k used= \",p)\n",
        "    print(\"g^ak used= \",s)\n",
        "    for i in range(0,len(ct)):\n",
        "        ct[i]=s*ord(ct[i])\n",
        "    return ct,p\n",
        "\n",
        "#For decryption\n",
        "def decryption(ct,p,key,q):\n",
        "    pt=[]\n",
        "    h=power(p,key,q)\n",
        "    for i in range(0,len(ct)):\n",
        "        pt.append(chr(int(ct[i]/h)))\n",
        "    return pt\n",
        "\n",
        "\n",
        "msg=input(\"Enter message:\")\n",
        "q=random.randint(pow(10,20),pow(10,50))\n",
        "g=random.randint(2,q)\n",
        "key=gen_key(q)\n",
        "h=power(g,key,q)\n",
        "print(\"g used=\",g)\n",
        "print(\"g^a used=\",h)\n",
        "ct,p=encryption(msg,q,h,g)\n",
        "print(\"Original Message=\",msg)\n",
        "print(\"Encrypted Maessage=\",ct)\n",
        "pt=decryption(ct,p,key,q)\n",
        "d_msg=''.join(pt)\n",
        "print(\"Decryted Message=\",d_msg)"
      ],
      "metadata": {
        "id": "GiGN7lGvVJsa",
        "colab": {
          "base_uri": "https://localhost:8080/"
        },
        "outputId": "3bdead0d-0cac-4e87-f94e-13f3c4f2c8eb"
      },
      "execution_count": 4,
      "outputs": [
        {
          "output_type": "stream",
          "name": "stdout",
          "text": [
            "Enter message:Dhruv\n",
            "g used= 3279326409333301504011231460228682076735936871201\n",
            "g^a used= 3777187953404704343217550666660088500754966619661\n",
            "g^k used=  5230025474002152242959333045034141966511743734511\n",
            "g^ak used=  985988560958454897866543664885384383675955968731\n",
            "Original Message= Dhruv\n",
            "Encrypted Maessage= [67047222145174933054924969212206138089965005873708, 102542810339679309378120541148079975902299420748024, 112402695949263858356785977796933819739058980435334, 115360661632139223050385608791589972890086848341527, 116346650193097677948252152456475357273762804310258]\n",
            "Decryted Message= Dhruv\n"
          ]
        }
      ]
    }
  ],
  "metadata": {
    "colab": {
      "collapsed_sections": [],
      "name": "CSE537 Practical Assignment 5.ipynb",
      "provenance": [],
      "include_colab_link": true
    },
    "kernelspec": {
      "display_name": "Python 3",
      "name": "python3"
    }
  },
  "nbformat": 4,
  "nbformat_minor": 0
}